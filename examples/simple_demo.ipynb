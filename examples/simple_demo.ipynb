{
 "cells": [
  {
   "attachments": {},
   "cell_type": "markdown",
   "metadata": {},
   "source": [
    "# Vexpresso Showcase\n",
    "\n",
    "# Basic Usage\n",
    "\n",
    "## Creating/Loading a Collection\n",
    "\n",
    "In vexpresso, the `Collection` class is your interface into creating, loading, and querying on your data. Vexpreso is built upon Daft, which allows us to be flexible with multiple data types, so embeddings and other data types are treated similarly. Here are some ways to create one\n",
    "\n",
    "\n",
    "Things to improve:\n",
    "- Load from remote db\n",
    "    - load from huggingafce\n",
    "    - load from s3\n",
    "- locad from local stores\n",
    "    - parquet, csv etc\n",
    "    - load from pandas"
   ]
  },
  {
   "cell_type": "code",
   "execution_count": 7,
   "metadata": {},
   "outputs": [
    {
     "data": {
      "text/plain": [
       "+----------+----------------------+----------------------+\n",
       "| status   | documents            | embeddings           |\n",
       "| Utf8     | Utf8                 | List[item:Float64]   |\n",
       "+==========+======================+======================+\n",
       "| read     | A document that      | [1.1, 2.3, 3.2]      |\n",
       "|          | discusses domestic   |                      |\n",
       "|          | policy               |                      |\n",
       "+----------+----------------------+----------------------+\n",
       "| unread   | A document that      | [4.5, 6.9, 4.4]      |\n",
       "|          | discusses            |                      |\n",
       "|          | international        |                      |\n",
       "|          | affairs              |                      |\n",
       "+----------+----------------------+----------------------+\n",
       "| read     | A document that      | [1.1, 2.3, 3.2]      |\n",
       "|          | discusses kittens    |                      |\n",
       "+----------+----------------------+----------------------+\n",
       "| unread   | A document that      | [4.5, 6.9, 4.4]      |\n",
       "|          | discusses dogs       |                      |\n",
       "+----------+----------------------+----------------------+\n",
       "| read     | A document that      | [1.1, 2.3, 3.2]      |\n",
       "|          | discusses chocolate  |                      |\n",
       "+----------+----------------------+----------------------+\n",
       "| unread   | A document that is   | [4.5, 6.9, 4.4]      |\n",
       "|          | sixth that discusses |                      |\n",
       "|          | government           |                      |\n",
       "+----------+----------------------+----------------------+\n",
       "| read     | A document that      | [1.1, 2.3, 3.2]      |\n",
       "|          | discusses            |                      |\n",
       "|          | international        |                      |\n",
       "|          | affairs              |                      |\n",
       "+----------+----------------------+----------------------+\n",
       "| unread   | A document that      | [4.5, 6.9, 4.4]      |\n",
       "|          | discusses global     |                      |\n",
       "|          | affairs              |                      |\n",
       "+----------+----------------------+----------------------+\n",
       "(Showing first 8 of 8 rows)"
      ]
     },
     "execution_count": 7,
     "metadata": {},
     "output_type": "execute_result"
    }
   ],
   "source": [
    "import vexpresso as vx\n",
    "\n",
    "# Note: \"embeddings\" is not a required name for vectors, you could use any name\n",
    "data = {\n",
    "    \"status\": [\"read\", \"unread\", \"read\", \"unread\", \"read\", \"unread\", \"read\", \"unread\"],\n",
    "    \"documents\": [\"A document that discusses domestic policy\", \"A document that discusses international affairs\", \"A document that discusses kittens\", \"A document that discusses dogs\", \"A document that discusses chocolate\", \"A document that is sixth that discusses government\", \"A document that discusses international affairs\", \"A document that discusses global affairs\"],\n",
    "    \"embeddings\": [[1.1, 2.3, 3.2],[4.5, 6.9, 4.4],[1.1, 2.3, 3.2],[4.5, 6.9, 4.4],[1.1, 2.3, 3.2],[4.5, 6.9, 4.4],[1.1, 2.3, 3.2],[4.5, 6.9, 4.4],]\n",
    "}\n",
    "collection = vx.create(data=data)\n",
    "collection"
   ]
  },
  {
   "attachments": {},
   "cell_type": "markdown",
   "metadata": {},
   "source": [
    "### Loading an existing collection\n",
    "Vexpresso lets you save collections both locally and via remote storage, so you can persist data across various data stores and load it for later use"
   ]
  },
  {
   "cell_type": "code",
   "execution_count": 10,
   "metadata": {},
   "outputs": [],
   "source": [
    "# From HuggingFace Hub (will need to have HUGGINGFACEHUB_API_TOKEN set)\n",
    "# collection = vx.create(hf_username=\"<USERNAME>\", repo_name=\"<REPO_NAME>\")\n",
    "\n",
    "# From local file\n",
    "collection = vx.create(\n",
    "    directory_or_repo_id = \"./saved_collection/saved_transformed_collection/\",\n",
    ")"
   ]
  },
  {
   "cell_type": "code",
   "execution_count": null,
   "metadata": {},
   "outputs": [],
   "source": [
    "collection = vx.load_from_file(\"<my_parquetpath\")"
   ]
  },
  {
   "attachments": {},
   "cell_type": "markdown",
   "metadata": {},
   "source": [
    "## Query similarity across Vectors\n",
    "\n",
    "## Query similarity with filtering\n",
    "\n",
    "## Natural Language Querying\n",
    "\n",
    "# Advanced Usage\n",
    "\n",
    "## Using Custom Embeddings and Indices\n",
    "\n",
    "### Custom Embeddings\n",
    "\n",
    "OpenAIEmbeddings\n",
    "\n",
    "### Indices\n",
    "\n",
    "Faiss\n",
    "\n",
    "## Chaining Operations\n",
    "\n",
    "## Multimodal Querying\n",
    "\n",
    "## Applying Transformations\n"
   ]
  },
  {
   "attachments": {},
   "cell_type": "markdown",
   "metadata": {},
   "source": []
  }
 ],
 "metadata": {
  "kernelspec": {
   "display_name": "vx_env",
   "language": "python",
   "name": "python3"
  },
  "language_info": {
   "codemirror_mode": {
    "name": "ipython",
    "version": 3
   },
   "file_extension": ".py",
   "mimetype": "text/x-python",
   "name": "python",
   "nbconvert_exporter": "python",
   "pygments_lexer": "ipython3",
   "version": "3.10.11"
  },
  "orig_nbformat": 4
 },
 "nbformat": 4,
 "nbformat_minor": 2
}
